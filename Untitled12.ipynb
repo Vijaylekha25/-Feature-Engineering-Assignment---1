{
 "cells": [
  {
   "cell_type": "markdown",
   "id": "c036a70a-2f12-4ae9-b012-777c34ea5368",
   "metadata": {},
   "source": [
    "Q1: What are missing values in a dataset? Why is it essential to handle missing values? Name some\n",
    "algorithms that are not affected by missing values."
   ]
  },
  {
   "cell_type": "markdown",
   "id": "2701ff88-b410-4d27-988f-3fbe620f06e9",
   "metadata": {},
   "source": [
    "Answer- Missing values in a dataset refer to the absence of data for certain observations or variables. It is essential to handle missing values because they can lead to biased results and inaccurate conclusions in data analysis and modeling. Some algorithms that are not affected by missing values include decision trees, random forests, and gradient boosting algorithms like XGBoost and LightGBM."
   ]
  },
  {
   "cell_type": "markdown",
   "id": "4d520412-49f9-4bf7-85d5-329c980bd8d4",
   "metadata": {},
   "source": [
    "Q2: List down techniques used to handle missing data. Give an example of each with python code."
   ]
  },
  {
   "cell_type": "markdown",
   "id": "bc38fbdc-4772-4af7-8e7b-bb318ae812fe",
   "metadata": {},
   "source": [
    "Answer-Techniques used to handle missing data include:\n",
    "\n",
    "Removing observations with missing values\n",
    "Imputation using mean, median, or mode\n",
    "Using advanced techniques like K-nearest neighbors (KNN) imputation or multiple imputation\n",
    "Example using Python:"
   ]
  },
  {
   "cell_type": "code",
   "execution_count": 2,
   "id": "d27d4f7b-0edf-4ad0-a75f-fee9825a223c",
   "metadata": {},
   "outputs": [
    {
     "ename": "ModuleNotFoundError",
     "evalue": "No module named 'pandas'",
     "output_type": "error",
     "traceback": [
      "\u001b[1;31m---------------------------------------------------------------------------\u001b[0m",
      "\u001b[1;31mModuleNotFoundError\u001b[0m                       Traceback (most recent call last)",
      "Cell \u001b[1;32mIn[2], line 1\u001b[0m\n\u001b[1;32m----> 1\u001b[0m \u001b[38;5;28;01mimport\u001b[39;00m \u001b[38;5;21;01mpandas\u001b[39;00m \u001b[38;5;28;01mas\u001b[39;00m \u001b[38;5;21;01mpd\u001b[39;00m\n\u001b[0;32m      2\u001b[0m \u001b[38;5;28;01mfrom\u001b[39;00m \u001b[38;5;21;01msklearn\u001b[39;00m\u001b[38;5;21;01m.\u001b[39;00m\u001b[38;5;21;01mimpute\u001b[39;00m \u001b[38;5;28;01mimport\u001b[39;00m SimpleImputer\n\u001b[0;32m      4\u001b[0m \u001b[38;5;66;03m# Create a DataFrame with missing values\u001b[39;00m\n",
      "\u001b[1;31mModuleNotFoundError\u001b[0m: No module named 'pandas'"
     ]
    }
   ],
   "source": [
    "import pandas as pd\n",
    "from sklearn.impute import SimpleImputer\n",
    "\n",
    "# Create a DataFrame with missing values\n",
    "data = {'A': [1, 2, None, 4, 5],\n",
    "        'B': [None, 2, 3, None, 5]}\n",
    "df = pd.DataFrame(data)\n",
    "\n",
    "# Impute missing values using mean\n",
    "imputer = SimpleImputer(strategy='mean')\n",
    "df_imputed = pd.DataFrame(imputer.fit_transform(df), columns=df.columns)\n",
    "\n",
    "print(df_imputed)"
   ]
  },
  {
   "cell_type": "markdown",
   "id": "773d90b0-6598-4a55-80e3-f831d1a042ae",
   "metadata": {},
   "source": [
    "Q3: Explain the imbalanced data. What will happen if imbalanced data is not handled?"
   ]
  },
  {
   "cell_type": "markdown",
   "id": "ecbf0d5e-e352-479c-98d7-4db9d75624e3",
   "metadata": {},
   "source": [
    "Answer- Imbalanced data refers to a situation where the classes in a classification problem are not represented equally. If imbalanced data is not handled, it can lead to biased models that favor the majority class, resulting in poor performance on the minority class."
   ]
  },
  {
   "cell_type": "markdown",
   "id": "e02cd80e-d202-44f6-9f71-659b02d90443",
   "metadata": {},
   "source": [
    "Q4: What are Up-sampling and Down-sampling? Explain with an example when up-sampling and down-\n",
    "sampling are required."
   ]
  },
  {
   "cell_type": "markdown",
   "id": "6aa62188-d6f9-4164-91df-6c2f18f08375",
   "metadata": {},
   "source": [
    "Answer-Up-sampling involves increasing the number of instances in the minority class, while down-sampling involves reducing the number of instances in the majority class. Up-sampling and down-sampling are required when dealing with imbalanced datasets to create a balanced dataset for model training.\n",
    "\n",
    "Example:\n",
    "\n",
    "Up-sampling: Duplicate instances of the minority class to match the number of instances in the majority class.\n",
    "Down-sampling: Randomly remove instances from the majority class to match the number of instances in the minority class."
   ]
  },
  {
   "cell_type": "markdown",
   "id": "bdd2a13a-ab38-4312-8b4e-c71151ed6c06",
   "metadata": {},
   "source": [
    "Q5: What is data Augmentation? Explain SMOTE."
   ]
  },
  {
   "cell_type": "markdown",
   "id": "f3374764-def9-43f1-8c87-c10c92c9cb21",
   "metadata": {},
   "source": [
    "Answer- Data augmentation involves artificially increasing the size of a dataset by applying transformations to the existing data, such as rotation, flipping, or adding noise. SMOTE (Synthetic Minority Over-sampling Technique) is a data augmentation technique specifically designed for addressing imbalanced datasets by generating synthetic samples for the minority class."
   ]
  },
  {
   "cell_type": "markdown",
   "id": "eac46763-2023-4234-add1-0ad5b9c70e74",
   "metadata": {},
   "source": [
    "Q6: What are outliers in a dataset? Why is it essential to handle outliers?"
   ]
  },
  {
   "cell_type": "markdown",
   "id": "ab0a98e4-18e5-4c04-91a5-de0dea1f75da",
   "metadata": {},
   "source": [
    "Answer-Outliers are data points that significantly deviate from the rest of the data in a dataset. It is essential to handle outliers because they can skew statistical analyses and modeling results, leading to inaccurate conclusions."
   ]
  },
  {
   "cell_type": "markdown",
   "id": "2caac5bb-3b1e-4bb6-9bb3-02eb34f2df97",
   "metadata": {},
   "source": [
    "Q7: You are working on a project that requires analyzing customer data. However, you notice that some of\n",
    "the data is missing. What are some techniques you can use to handle the missing data in your analysis?"
   ]
  },
  {
   "cell_type": "markdown",
   "id": "b34ba6e2-d6ce-4338-912c-0aab8de36943",
   "metadata": {},
   "source": [
    "Answer- Some techniques to handle missing data in analysis include imputation (using mean, median, mode, or advanced techniques), removing observations with missing values, or using algorithms that can handle missing values internally."
   ]
  },
  {
   "cell_type": "markdown",
   "id": "d11f1aaf-b816-4718-b997-fbbb13fdd156",
   "metadata": {},
   "source": [
    "Q8: You are working with a large dataset and find that a small percentage of the data is missing. What are\n",
    "some strategies you can use to determine if the missing data is missing at random or if there is a pattern\n",
    "to the missing data?"
   ]
  },
  {
   "cell_type": "markdown",
   "id": "99a0b105-b373-4373-ad27-571982fd95a2",
   "metadata": {},
   "source": [
    "Answer- Strategies to determine if missing data is missing at random or if there is a pattern include analyzing patterns of missingness, conducting statistical tests, or using visualization techniques to identify relationships between missing values and other variables."
   ]
  },
  {
   "cell_type": "markdown",
   "id": "15b0683e-c314-4509-82f1-ecef18b4b57e",
   "metadata": {},
   "source": [
    "Q9: Suppose you are working on a medical diagnosis project and find that the majority of patients in the\n",
    "dataset do not have the condition of interest, while a small percentage do. What are some strategies you\n",
    "can use to evaluate the performance of your machine learning model on this imbalanced dataset?"
   ]
  },
  {
   "cell_type": "markdown",
   "id": "f36e432b-85bf-475a-9dba-f95ac66eb8d6",
   "metadata": {},
   "source": [
    "Answer- Strategies to evaluate the performance of a machine learning model on an imbalanced dataset include using evaluation metrics like precision, recall, F1-score, ROC AUC, and employing techniques like resampling, class weights, or using algorithms specifically designed for imbalanced data."
   ]
  },
  {
   "cell_type": "markdown",
   "id": "55381daf-2bb3-4443-95ab-62923304b95d",
   "metadata": {},
   "source": [
    "Q10: When attempting to estimate customer satisfaction for a project, you discover that the dataset is\n",
    "unbalanced, with the bulk of customers reporting being satisfied. What methods can you employ to\n",
    "balance the dataset and down-sample the majority class?"
   ]
  },
  {
   "cell_type": "markdown",
   "id": "15aaaacc-b7e8-4166-9810-2b2afdb72eda",
   "metadata": {},
   "source": [
    "Answer-Methods to balance an unbalanced dataset and down-sample the majority class include random under-sampling, cluster-based under-sampling, or using algorithms like SMOTE to generate synthetic samples for the minority class."
   ]
  },
  {
   "cell_type": "markdown",
   "id": "c62b6a8d-96c9-4639-9d3d-6afbd1bc5961",
   "metadata": {},
   "source": [
    "Q11: You discover that the dataset is unbalanced with a low percentage of occurrences while working on a\n",
    "project that requires you to estimate the occurrence of a rare event. What methods can you employ to\n",
    "balance the dataset and up-sample the minority class?"
   ]
  },
  {
   "cell_type": "markdown",
   "id": "bb29352e-709d-493c-9fbf-85d9942c413a",
   "metadata": {},
   "source": [
    "Answer- Methods to balance an unbalanced dataset and up-sample the minority class include random over-sampling, SMOTE (Synthetic Minority Over-sampling Technique), or using algorithms like ADASYN (Adaptive Synthetic Sampling) to generate synthetic samples for the minority class.\n",
    "\n",
    "\n",
    "\n",
    "\n",
    "\n",
    "\n"
   ]
  },
  {
   "cell_type": "code",
   "execution_count": null,
   "id": "f48b9fb2-a0af-4e91-aade-7761779ac98b",
   "metadata": {},
   "outputs": [],
   "source": []
  },
  {
   "cell_type": "code",
   "execution_count": null,
   "id": "e045eded-333f-4404-83a8-cbd6da154e10",
   "metadata": {},
   "outputs": [],
   "source": []
  },
  {
   "cell_type": "code",
   "execution_count": null,
   "id": "f7cf3ee7-2800-4e6f-ab95-4223f995243d",
   "metadata": {},
   "outputs": [],
   "source": []
  },
  {
   "cell_type": "code",
   "execution_count": null,
   "id": "9a1f0824-28ed-4c0d-b326-55ad052fa84a",
   "metadata": {},
   "outputs": [],
   "source": []
  }
 ],
 "metadata": {
  "kernelspec": {
   "display_name": "Python 3 (ipykernel)",
   "language": "python",
   "name": "python3"
  },
  "language_info": {
   "codemirror_mode": {
    "name": "ipython",
    "version": 3
   },
   "file_extension": ".py",
   "mimetype": "text/x-python",
   "name": "python",
   "nbconvert_exporter": "python",
   "pygments_lexer": "ipython3",
   "version": "3.12.2"
  }
 },
 "nbformat": 4,
 "nbformat_minor": 5
}
